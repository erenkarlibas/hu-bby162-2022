{
  "cells": [
    {
      "cell_type": "markdown",
      "metadata": {
        "id": "view-in-github",
        "colab_type": "text"
      },
      "source": [
        "<a href=\"https://colab.research.google.com/github/erenkarlibas/hu-bby162-2022/blob/main/proje01.ipynb\" target=\"_parent\"><img src=\"https://colab.research.google.com/assets/colab-badge.svg\" alt=\"Open In Colab\"/></a>"
      ]
    },
    {
      "cell_type": "code",
      "source": [
        "\n",
        "liste = [\"tavşan\", \"marul\", \"leopar\", \"salam\", \"demir\", \"tahta\"]\n",
        "while True:\n",
        "  try :\n",
        "    secim = int(input(\"İndeks numarasınız giriniz: \"))\n",
        "  except ValueError:\n",
        "    print(\"integer bir değer giriniz\")\n",
        "  else:\n",
        "    listeToplam = len(liste)\n",
        "    if secim < listeToplam:\n",
        "      print(liste[secim])\n",
        "      break\n",
        "    else:\n",
        "      print(\"İndeks dışı giriş..!\")"
      ],
      "metadata": {
        "id": "rtUCm0pyuXgs"
      },
      "execution_count": null,
      "outputs": []
    }
  ],
  "metadata": {
    "colab": {
      "collapsed_sections": [],
      "name": "proje01",
      "toc_visible": true,
      "provenance": [],
      "include_colab_link": true
    },
    "kernelspec": {
      "display_name": "Python 3",
      "name": "python3"
    }
  },
  "nbformat": 4,
  "nbformat_minor": 0
}