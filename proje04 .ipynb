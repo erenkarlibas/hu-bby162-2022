{
  "cells": [
    {
      "cell_type": "code",
      "execution_count": 17,
      "metadata": {
        "id": "qOFAxzSZwZ1b",
        "outputId": "ad1485c6-0ce0-4cb7-8776-8333e01884eb",
        "colab": {
          "base_uri": "https://localhost:8080/"
        }
      },
      "outputs": [
        {
          "output_type": "stream",
          "name": "stdout",
          "text": [
            "Drive already mounted at /content/drive; to attempt to forcibly remount, call drive.mount(\"/content/drive\", force_remount=True).\n"
          ]
        }
      ],
      "source": [
        "from google.colab import drive\n",
        "drive.mount('/content/drive')\n"
      ]
    },
    {
      "cell_type": "code",
      "source": [
        "dosya = \"/content/veritabani.txt\"\n"
      ],
      "metadata": {
        "id": "I75OgKrrNIks"
      },
      "execution_count": 27,
      "outputs": []
    },
    {
      "cell_type": "code",
      "execution_count": 28,
      "metadata": {
        "id": "WAsNXs6Lxb3S"
      },
      "outputs": [],
      "source": [
        "def  kayitListele(dosya):\n",
        "\n",
        "  print(\"\\nKayıtlar:\")\n",
        "  with open(dosya, encoding='utf8') as f:\n",
        "    for line in f:\n",
        "      print(line.strip().split('|'))"
      ]
    },
    {
      "cell_type": "code",
      "execution_count": 29,
      "metadata": {
        "id": "g_lDekOtxiFE"
      },
      "outputs": [],
      "source": [
        "def  yeniKayit(dosya):\n",
        "  print(\"Yeni kayıt giriniz:\")\n",
        "  f = open(dosya, \"a\") \n",
        "  kitapAdi=input(\"Kitap adı: \")\n",
        "  yazarAdi=input(\"Yazar adı: \")\n",
        "  yayinevi=input(\"Yayınevi adı: \")\n",
        "  basimYili=input(\"Basım yılı: \")\n",
        "  kayit= (kitapAdi + \"|\" +yazarAdi + \"|\" +yayinevi + \"|\" +basimYili)\n",
        "  f.write(\"\\n\" + kayit)\n",
        "\n"
      ]
    },
    {
      "cell_type": "code",
      "execution_count": 46,
      "metadata": {
        "id": "uq6uQ_zBxiOs"
      },
      "outputs": [],
      "source": [
        "def  kayitAra(dosya):\n",
        "  \n",
        "  ara=input(\"\\n Ara:\")\n",
        "  with open(dosya, 'r') as f:\n",
        "    satırlar = f.readlines()\n",
        "    for satır in satırlar:\n",
        "        if satır.find(ara) != -1:\n",
        "            print('Sıra', satırlar.index(satır))\n",
        "            print('Arama Sonucu', satır)\n",
        "        #if satır.find(ara) == -1:\n",
        "        # print(\"Sonuç bulunamadı.\")\n",
        "    "
      ]
    },
    {
      "cell_type": "code",
      "execution_count": 31,
      "metadata": {
        "id": "CRX7mXUvxoiW"
      },
      "outputs": [],
      "source": [
        "def cikis():\n",
        "  print(\"\\n Görüşmek üzere!\") \n"
      ]
    },
    {
      "cell_type": "code",
      "execution_count": 32,
      "metadata": {
        "id": "sQzYMw96yHH6"
      },
      "outputs": [],
      "source": [
        "def menu(secim=True):  \n",
        "  while secim:\n",
        "    print(\"\"\"\n",
        "    1.Kayıtları listele\n",
        "    2.Yeni kayıt ekle\n",
        "    3.Kayıt ara\n",
        "    4.Çıkış\n",
        "    \"\"\")\n",
        "    secim=input(\"Ne yapmak istersiniz? \")\n",
        "    if secim==\"1\":\n",
        "      kayitListele(dosya)\n",
        "    elif secim==\"2\":\n",
        "      yeniKayit(dosya)\n",
        "    elif secim==\"3\":\n",
        "      kayitAra(dosya)\n",
        "    elif secim==\"4\":\n",
        "      cikis()\n",
        "      secim = None\n",
        "    else:\n",
        "       print(\"\\n Geçerli menü bulunamamıştır, tekrar deneyiniz.\")"
      ]
    },
    {
      "cell_type": "code",
      "execution_count": 48,
      "metadata": {
        "colab": {
          "base_uri": "https://localhost:8080/"
        },
        "id": "yWWWiL2kyb0I",
        "outputId": "c2f4d610-a338-4ef9-e623-b088ca82b944"
      },
      "outputs": [
        {
          "output_type": "stream",
          "name": "stdout",
          "text": [
            "\n",
            "    1.Kayıtları listele\n",
            "    2.Yeni kayıt ekle\n",
            "    3.Kayıt ara\n",
            "    4.Çıkış\n",
            "    \n",
            "Ne yapmak istersiniz? 1\n",
            "\n",
            "Kayıtlar:\n",
            "['Bir Fotoğrafı Anlamak', 'John Berger', 'Metis', '2014']\n",
            "['Bir Fotoğrafı Anlamak', 'John Berger', 'Metis', '2015']\n",
            "['Simyacı', 'Paulo Coelho', 'Can Yayınları', '1996']\n",
            "['Kızıl Yükseliş', 'Pierce Brown', 'Pegasus Yayınları', '2018']\n",
            "\n",
            "    1.Kayıtları listele\n",
            "    2.Yeni kayıt ekle\n",
            "    3.Kayıt ara\n",
            "    4.Çıkış\n",
            "    \n",
            "Ne yapmak istersiniz? 3\n",
            "\n",
            " Ara:kek\n",
            "\n",
            "    1.Kayıtları listele\n",
            "    2.Yeni kayıt ekle\n",
            "    3.Kayıt ara\n",
            "    4.Çıkış\n",
            "    \n",
            "Ne yapmak istersiniz? John\n",
            "\n",
            " Geçerli menü bulunamamıştır, tekrar deneyiniz.\n",
            "\n",
            "    1.Kayıtları listele\n",
            "    2.Yeni kayıt ekle\n",
            "    3.Kayıt ara\n",
            "    4.Çıkış\n",
            "    \n",
            "Ne yapmak istersiniz? 3\n",
            "\n",
            " Ara:John\n",
            "Sıra 0\n",
            "Arama Sonucu Bir Fotoğrafı Anlamak|John Berger|Metis|2014\n",
            "\n",
            "Sıra 1\n",
            "Arama Sonucu Bir Fotoğrafı Anlamak|John Berger|Metis|2015\n",
            "\n",
            "\n",
            "    1.Kayıtları listele\n",
            "    2.Yeni kayıt ekle\n",
            "    3.Kayıt ara\n",
            "    4.Çıkış\n",
            "    \n",
            "Ne yapmak istersiniz? 4\n",
            "\n",
            " Görüşmek üzere!\n"
          ]
        }
      ],
      "source": [
        "menu()"
      ]
    }
  ],
  "metadata": {
    "colab": {
      "collapsed_sections": [],
      "name": "proje04.ipynb",
      "provenance": []
    },
    "kernelspec": {
      "display_name": "Python 3",
      "name": "python3"
    },
    "language_info": {
      "name": "python"
    }
  },
  "nbformat": 4,
  "nbformat_minor": 0
}